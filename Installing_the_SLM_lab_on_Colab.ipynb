{
  "nbformat": 4,
  "nbformat_minor": 0,
  "metadata": {
    "colab": {
      "name": "Installing the SLM lab on Colab.ipynb",
      "provenance": [],
      "authorship_tag": "ABX9TyM495Z4iukjmH24yZ5MjGWk",
      "include_colab_link": true
    },
    "kernelspec": {
      "name": "python3",
      "display_name": "Python 3"
    }
  },
  "cells": [
    {
      "cell_type": "markdown",
      "metadata": {
        "id": "view-in-github",
        "colab_type": "text"
      },
      "source": [
        "<a href=\"https://colab.research.google.com/github/nelslindahlx/Data-Analysis/blob/master/Installing_the_SLM_lab_on_Colab.ipynb\" target=\"_parent\"><img src=\"https://colab.research.google.com/assets/colab-badge.svg\" alt=\"Open In Colab\"/></a>"
      ]
    },
    {
      "cell_type": "markdown",
      "metadata": {
        "id": "lYeM4ay6kw7Y",
        "colab_type": "text"
      },
      "source": [
        "I am currently reading this book, “Graesser, L. H., & Keng, W. L. (2020). Foundations of deep reinforcement learning : theory and practice in Python. Boston: Pearson Addison-Wesley.” This workbook is my initial effort to use the SLM-Lab repository in Colab"
      ]
    },
    {
      "cell_type": "markdown",
      "metadata": {
        "id": "XeD_VcfobUai",
        "colab_type": "text"
      },
      "source": [
        "We need to grab the SLM repo"
      ]
    },
    {
      "cell_type": "code",
      "metadata": {
        "id": "nrAFhv_NbIEQ",
        "colab_type": "code",
        "colab": {
          "base_uri": "https://localhost:8080/",
          "height": 101
        },
        "outputId": "19a9353b-b840-4774-ac9c-19866b506c3b"
      },
      "source": [
        "! git clone https://github.com/kengz/SLM-Lab.git"
      ],
      "execution_count": 3,
      "outputs": [
        {
          "output_type": "stream",
          "text": [
            "Cloning into 'SLM-Lab'...\n",
            "remote: Enumerating objects: 20461, done.\u001b[K\n",
            "remote: Total 20461 (delta 0), reused 0 (delta 0), pack-reused 20461\u001b[K\n",
            "Receiving objects: 100% (20461/20461), 4.13 MiB | 16.79 MiB/s, done.\n",
            "Resolving deltas: 100% (15768/15768), done.\n"
          ],
          "name": "stdout"
        }
      ]
    },
    {
      "cell_type": "markdown",
      "metadata": {
        "id": "flBMgl4bcQi0",
        "colab_type": "text"
      },
      "source": [
        "Change the directory to the SML-Lab folder"
      ]
    },
    {
      "cell_type": "code",
      "metadata": {
        "id": "1NTx_rOYcQuL",
        "colab_type": "code",
        "colab": {
          "base_uri": "https://localhost:8080/",
          "height": 34
        },
        "outputId": "b584291a-c442-46db-e5cb-3d6b7f282401"
      },
      "source": [
        "cd /content/SLM-Lab"
      ],
      "execution_count": 5,
      "outputs": [
        {
          "output_type": "stream",
          "text": [
            "/content/SLM-Lab\n"
          ],
          "name": "stdout"
        }
      ]
    },
    {
      "cell_type": "markdown",
      "metadata": {
        "id": "rNXOIRKScpLc",
        "colab_type": "text"
      },
      "source": [
        "Check out the dedicated branch for the book"
      ]
    },
    {
      "cell_type": "code",
      "metadata": {
        "id": "-3UelASBcp2V",
        "colab_type": "code",
        "colab": {
          "base_uri": "https://localhost:8080/",
          "height": 50
        },
        "outputId": "7277bf0e-bd0b-4c83-a415-ef88c143258d"
      },
      "source": [
        "! git checkout book"
      ],
      "execution_count": 6,
      "outputs": [
        {
          "output_type": "stream",
          "text": [
            "Branch 'book' set up to track remote branch 'book' from 'origin'.\n",
            "Switched to a new branch 'book'\n"
          ],
          "name": "stdout"
        }
      ]
    },
    {
      "cell_type": "markdown",
      "metadata": {
        "id": "8l6p2LXzcz17",
        "colab_type": "text"
      },
      "source": [
        "Install the dendencies (this does not work right. I'm still workign on figuring it out)"
      ]
    },
    {
      "cell_type": "code",
      "metadata": {
        "id": "bnl77Brvc0EV",
        "colab_type": "code",
        "colab": {
          "base_uri": "https://localhost:8080/",
          "height": 101
        },
        "outputId": "a088da47-3c4f-4eaf-f3d4-d34e44cfe7b3"
      },
      "source": [
        "!pip install -r /content/SLM-Lab/bin/setup"
      ],
      "execution_count": 24,
      "outputs": [
        {
          "output_type": "stream",
          "text": [
            "Usage: pip3 [options]\n",
            "\n",
            "\u001b[31mERROR: Invalid requirement: set -e\n",
            "pip3: error: -e option requires 1 argument\n",
            "\u001b[0m\n"
          ],
          "name": "stdout"
        }
      ]
    }
  ]
}