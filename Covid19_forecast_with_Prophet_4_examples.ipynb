{
  "nbformat": 4,
  "nbformat_minor": 0,
  "metadata": {
    "colab": {
      "name": "Covid19 forecast with Prophet 4 examples.ipynb",
      "provenance": [],
      "authorship_tag": "ABX9TyPh41vgDUTY9sYHO357S/l9",
      "include_colab_link": true
    },
    "kernelspec": {
      "name": "python3",
      "display_name": "Python 3"
    }
  },
  "cells": [
    {
      "cell_type": "markdown",
      "metadata": {
        "id": "view-in-github",
        "colab_type": "text"
      },
      "source": [
        "<a href=\"https://colab.research.google.com/github/nelslindahlx/Data-Analysis/blob/master/Covid19_forecast_with_Prophet_4_examples.ipynb\" target=\"_parent\"><img src=\"https://colab.research.google.com/assets/colab-badge.svg\" alt=\"Open In Colab\"/></a>"
      ]
    },
    {
      "cell_type": "markdown",
      "metadata": {
        "id": "kH5ouPl7l1Ai",
        "colab_type": "text"
      },
      "source": [
        "# Example #4: Another working prophet chart"
      ]
    },
    {
      "cell_type": "markdown",
      "metadata": {
        "id": "KIJ0RQeSm-NM",
        "colab_type": "text"
      },
      "source": [
        "we need to import some items pandas, fbprophet, ploty (I want to use this later)"
      ]
    },
    {
      "cell_type": "code",
      "metadata": {
        "id": "VMcMo1yimDgH",
        "colab_type": "code",
        "colab": {}
      },
      "source": [
        "import pandas as pd\n",
        "from fbprophet import Prophet\n",
        "import fbprophet.plot\n",
        "import plotly.offline as py\n",
        "from plotly.offline import iplot\n",
        "py.init_notebook_mode()\n",
        "pd.show_versions(as_json=False) # This is added for some output on the cell"
      ],
      "execution_count": 0,
      "outputs": []
    },
    {
      "cell_type": "markdown",
      "metadata": {
        "id": "smhNgRWCl6Dq",
        "colab_type": "text"
      },
      "source": [
        "Pull in the NY Times Covid data"
      ]
    },
    {
      "cell_type": "code",
      "metadata": {
        "id": "41o_lXDBmDYN",
        "colab_type": "code",
        "outputId": "4b4cd30b-eaba-46c3-afad-205f1eddc33f",
        "colab": {
          "base_uri": "https://localhost:8080/",
          "height": 195
        }
      },
      "source": [
        "df = pd.read_csv('https://raw.githubusercontent.com/nytimes/covid-19-data/master/us.csv')\n",
        "df.head()"
      ],
      "execution_count": 0,
      "outputs": [
        {
          "output_type": "execute_result",
          "data": {
            "text/html": [
              "<div>\n",
              "<style scoped>\n",
              "    .dataframe tbody tr th:only-of-type {\n",
              "        vertical-align: middle;\n",
              "    }\n",
              "\n",
              "    .dataframe tbody tr th {\n",
              "        vertical-align: top;\n",
              "    }\n",
              "\n",
              "    .dataframe thead th {\n",
              "        text-align: right;\n",
              "    }\n",
              "</style>\n",
              "<table border=\"1\" class=\"dataframe\">\n",
              "  <thead>\n",
              "    <tr style=\"text-align: right;\">\n",
              "      <th></th>\n",
              "      <th>date</th>\n",
              "      <th>cases</th>\n",
              "      <th>deaths</th>\n",
              "    </tr>\n",
              "  </thead>\n",
              "  <tbody>\n",
              "    <tr>\n",
              "      <th>0</th>\n",
              "      <td>2020-01-21</td>\n",
              "      <td>1</td>\n",
              "      <td>0</td>\n",
              "    </tr>\n",
              "    <tr>\n",
              "      <th>1</th>\n",
              "      <td>2020-01-22</td>\n",
              "      <td>1</td>\n",
              "      <td>0</td>\n",
              "    </tr>\n",
              "    <tr>\n",
              "      <th>2</th>\n",
              "      <td>2020-01-23</td>\n",
              "      <td>1</td>\n",
              "      <td>0</td>\n",
              "    </tr>\n",
              "    <tr>\n",
              "      <th>3</th>\n",
              "      <td>2020-01-24</td>\n",
              "      <td>2</td>\n",
              "      <td>0</td>\n",
              "    </tr>\n",
              "    <tr>\n",
              "      <th>4</th>\n",
              "      <td>2020-01-25</td>\n",
              "      <td>3</td>\n",
              "      <td>0</td>\n",
              "    </tr>\n",
              "  </tbody>\n",
              "</table>\n",
              "</div>"
            ],
            "text/plain": [
              "         date  cases  deaths\n",
              "0  2020-01-21      1       0\n",
              "1  2020-01-22      1       0\n",
              "2  2020-01-23      1       0\n",
              "3  2020-01-24      2       0\n",
              "4  2020-01-25      3       0"
            ]
          },
          "metadata": {
            "tags": []
          },
          "execution_count": 2
        }
      ]
    },
    {
      "cell_type": "markdown",
      "metadata": {
        "id": "CKOH1t1YnNjN",
        "colab_type": "text"
      },
      "source": [
        "You need to name the columns so that Prophet can use them wiht \"ds\" and \"y\""
      ]
    },
    {
      "cell_type": "code",
      "metadata": {
        "id": "Cv9yQAd6mDQt",
        "colab_type": "code",
        "outputId": "4db88129-ba03-4b46-b402-fc97dcb979f8",
        "colab": {
          "base_uri": "https://localhost:8080/",
          "height": 195
        }
      },
      "source": [
        "df.rename(columns={\"date\": \"ds\", \"cases\": \"y\"},inplace=True) \n",
        "df['ds'] = pd.to_datetime(df['ds'],infer_datetime_format=True)\n",
        "df = df[df['ds']>\"2020-02-01\"]\n",
        "df['y'] = df['y'].astype(int)\n",
        "df = df[['y','ds']]\n",
        "df.head()"
      ],
      "execution_count": 0,
      "outputs": [
        {
          "output_type": "execute_result",
          "data": {
            "text/html": [
              "<div>\n",
              "<style scoped>\n",
              "    .dataframe tbody tr th:only-of-type {\n",
              "        vertical-align: middle;\n",
              "    }\n",
              "\n",
              "    .dataframe tbody tr th {\n",
              "        vertical-align: top;\n",
              "    }\n",
              "\n",
              "    .dataframe thead th {\n",
              "        text-align: right;\n",
              "    }\n",
              "</style>\n",
              "<table border=\"1\" class=\"dataframe\">\n",
              "  <thead>\n",
              "    <tr style=\"text-align: right;\">\n",
              "      <th></th>\n",
              "      <th>y</th>\n",
              "      <th>ds</th>\n",
              "    </tr>\n",
              "  </thead>\n",
              "  <tbody>\n",
              "    <tr>\n",
              "      <th>12</th>\n",
              "      <td>11</td>\n",
              "      <td>2020-02-02</td>\n",
              "    </tr>\n",
              "    <tr>\n",
              "      <th>13</th>\n",
              "      <td>11</td>\n",
              "      <td>2020-02-03</td>\n",
              "    </tr>\n",
              "    <tr>\n",
              "      <th>14</th>\n",
              "      <td>11</td>\n",
              "      <td>2020-02-04</td>\n",
              "    </tr>\n",
              "    <tr>\n",
              "      <th>15</th>\n",
              "      <td>12</td>\n",
              "      <td>2020-02-05</td>\n",
              "    </tr>\n",
              "    <tr>\n",
              "      <th>16</th>\n",
              "      <td>12</td>\n",
              "      <td>2020-02-06</td>\n",
              "    </tr>\n",
              "  </tbody>\n",
              "</table>\n",
              "</div>"
            ],
            "text/plain": [
              "     y         ds\n",
              "12  11 2020-02-02\n",
              "13  11 2020-02-03\n",
              "14  11 2020-02-04\n",
              "15  12 2020-02-05\n",
              "16  12 2020-02-06"
            ]
          },
          "metadata": {
            "tags": []
          },
          "execution_count": 3
        }
      ]
    },
    {
      "cell_type": "markdown",
      "metadata": {
        "id": "_XAJWXa6nTn0",
        "colab_type": "text"
      },
      "source": [
        "Run this to set and fit the model"
      ]
    },
    {
      "cell_type": "code",
      "metadata": {
        "id": "B6hZ6J4amfCi",
        "colab_type": "code",
        "outputId": "8bdd42d6-e373-4383-affe-30d25671bd0c",
        "colab": {
          "base_uri": "https://localhost:8080/",
          "height": 67
        }
      },
      "source": [
        "m = Prophet()\n",
        "m.fit(df)"
      ],
      "execution_count": 0,
      "outputs": [
        {
          "output_type": "stream",
          "text": [
            "INFO:fbprophet:Disabling yearly seasonality. Run prophet with yearly_seasonality=True to override this.\n",
            "INFO:fbprophet:Disabling daily seasonality. Run prophet with daily_seasonality=True to override this.\n"
          ],
          "name": "stderr"
        },
        {
          "output_type": "execute_result",
          "data": {
            "text/plain": [
              "<fbprophet.forecaster.Prophet at 0x7f092533c2e8>"
            ]
          },
          "metadata": {
            "tags": []
          },
          "execution_count": 8
        }
      ]
    },
    {
      "cell_type": "markdown",
      "metadata": {
        "id": "8RcVwFMrnZR6",
        "colab_type": "text"
      },
      "source": [
        "THis makes some future dataframe items"
      ]
    },
    {
      "cell_type": "code",
      "metadata": {
        "id": "WZsuenIqmmXE",
        "colab_type": "code",
        "outputId": "835a2275-4f19-47da-84c2-f04ad96970ae",
        "colab": {
          "base_uri": "https://localhost:8080/",
          "height": 195
        }
      },
      "source": [
        "future = m.make_future_dataframe(periods=365)\n",
        "future.tail()"
      ],
      "execution_count": 0,
      "outputs": [
        {
          "output_type": "execute_result",
          "data": {
            "text/html": [
              "<div>\n",
              "<style scoped>\n",
              "    .dataframe tbody tr th:only-of-type {\n",
              "        vertical-align: middle;\n",
              "    }\n",
              "\n",
              "    .dataframe tbody tr th {\n",
              "        vertical-align: top;\n",
              "    }\n",
              "\n",
              "    .dataframe thead th {\n",
              "        text-align: right;\n",
              "    }\n",
              "</style>\n",
              "<table border=\"1\" class=\"dataframe\">\n",
              "  <thead>\n",
              "    <tr style=\"text-align: right;\">\n",
              "      <th></th>\n",
              "      <th>ds</th>\n",
              "    </tr>\n",
              "  </thead>\n",
              "  <tbody>\n",
              "    <tr>\n",
              "      <th>490</th>\n",
              "      <td>2021-06-06</td>\n",
              "    </tr>\n",
              "    <tr>\n",
              "      <th>491</th>\n",
              "      <td>2021-06-07</td>\n",
              "    </tr>\n",
              "    <tr>\n",
              "      <th>492</th>\n",
              "      <td>2021-06-08</td>\n",
              "    </tr>\n",
              "    <tr>\n",
              "      <th>493</th>\n",
              "      <td>2021-06-09</td>\n",
              "    </tr>\n",
              "    <tr>\n",
              "      <th>494</th>\n",
              "      <td>2021-06-10</td>\n",
              "    </tr>\n",
              "  </tbody>\n",
              "</table>\n",
              "</div>"
            ],
            "text/plain": [
              "            ds\n",
              "490 2021-06-06\n",
              "491 2021-06-07\n",
              "492 2021-06-08\n",
              "493 2021-06-09\n",
              "494 2021-06-10"
            ]
          },
          "metadata": {
            "tags": []
          },
          "execution_count": 9
        }
      ]
    },
    {
      "cell_type": "markdown",
      "metadata": {
        "id": "pJlGvuFOnfTP",
        "colab_type": "text"
      },
      "source": [
        "We need to add to the table a bit"
      ]
    },
    {
      "cell_type": "code",
      "metadata": {
        "id": "KlCTxvIpmTzb",
        "colab_type": "code",
        "outputId": "3df2e19f-600c-47b5-de3c-b67ddaba03a1",
        "colab": {
          "base_uri": "https://localhost:8080/",
          "height": 195
        }
      },
      "source": [
        "forecast = m.predict(future)\n",
        "forecast[['ds', 'yhat', 'yhat_lower', 'yhat_upper']].tail()"
      ],
      "execution_count": 0,
      "outputs": [
        {
          "output_type": "execute_result",
          "data": {
            "text/html": [
              "<div>\n",
              "<style scoped>\n",
              "    .dataframe tbody tr th:only-of-type {\n",
              "        vertical-align: middle;\n",
              "    }\n",
              "\n",
              "    .dataframe tbody tr th {\n",
              "        vertical-align: top;\n",
              "    }\n",
              "\n",
              "    .dataframe thead th {\n",
              "        text-align: right;\n",
              "    }\n",
              "</style>\n",
              "<table border=\"1\" class=\"dataframe\">\n",
              "  <thead>\n",
              "    <tr style=\"text-align: right;\">\n",
              "      <th></th>\n",
              "      <th>ds</th>\n",
              "      <th>yhat</th>\n",
              "      <th>yhat_lower</th>\n",
              "      <th>yhat_upper</th>\n",
              "    </tr>\n",
              "  </thead>\n",
              "  <tbody>\n",
              "    <tr>\n",
              "      <th>490</th>\n",
              "      <td>2021-06-06</td>\n",
              "      <td>9.867546e+06</td>\n",
              "      <td>4.504181e+06</td>\n",
              "      <td>1.560082e+07</td>\n",
              "    </tr>\n",
              "    <tr>\n",
              "      <th>491</th>\n",
              "      <td>2021-06-07</td>\n",
              "      <td>9.887660e+06</td>\n",
              "      <td>4.508723e+06</td>\n",
              "      <td>1.563400e+07</td>\n",
              "    </tr>\n",
              "    <tr>\n",
              "      <th>492</th>\n",
              "      <td>2021-06-08</td>\n",
              "      <td>9.908260e+06</td>\n",
              "      <td>4.500017e+06</td>\n",
              "      <td>1.567983e+07</td>\n",
              "    </tr>\n",
              "    <tr>\n",
              "      <th>493</th>\n",
              "      <td>2021-06-09</td>\n",
              "      <td>9.929439e+06</td>\n",
              "      <td>4.501471e+06</td>\n",
              "      <td>1.572661e+07</td>\n",
              "    </tr>\n",
              "    <tr>\n",
              "      <th>494</th>\n",
              "      <td>2021-06-10</td>\n",
              "      <td>9.952750e+06</td>\n",
              "      <td>4.500771e+06</td>\n",
              "      <td>1.577315e+07</td>\n",
              "    </tr>\n",
              "  </tbody>\n",
              "</table>\n",
              "</div>"
            ],
            "text/plain": [
              "            ds          yhat    yhat_lower    yhat_upper\n",
              "490 2021-06-06  9.867546e+06  4.504181e+06  1.560082e+07\n",
              "491 2021-06-07  9.887660e+06  4.508723e+06  1.563400e+07\n",
              "492 2021-06-08  9.908260e+06  4.500017e+06  1.567983e+07\n",
              "493 2021-06-09  9.929439e+06  4.501471e+06  1.572661e+07\n",
              "494 2021-06-10  9.952750e+06  4.500771e+06  1.577315e+07"
            ]
          },
          "metadata": {
            "tags": []
          },
          "execution_count": 12
        }
      ]
    },
    {
      "cell_type": "markdown",
      "metadata": {
        "id": "Ur66c73Inkku",
        "colab_type": "text"
      },
      "source": [
        "Let's run the plot forecast"
      ]
    },
    {
      "cell_type": "code",
      "metadata": {
        "id": "y5MaRuWGl6PB",
        "colab_type": "code",
        "outputId": "4cb4267b-7d1d-4371-8cc2-3f849f6a98a0",
        "colab": {
          "base_uri": "https://localhost:8080/",
          "height": 441
        }
      },
      "source": [
        "fig1 = m.plot(forecast)"
      ],
      "execution_count": 0,
      "outputs": [
        {
          "output_type": "display_data",
          "data": {
            "image/png": "[encoded data removed]",
            "text/plain": [
              "<Figure size 720x432 with 1 Axes>"
            ]
          },
          "metadata": {
            "tags": []
          }
        }
      ]
    },
    {
      "cell_type": "markdown",
      "metadata": {
        "id": "z4p6VMJlVGsn",
        "colab_type": "text"
      },
      "source": [
        "# Example #3: Some working prophet charts"
      ]
    },
    {
      "cell_type": "markdown",
      "metadata": {
        "id": "fizhrnfdVNvl",
        "colab_type": "text"
      },
      "source": [
        "This is to import some things we need to complete the example pandas, fbprophet, and plotly.offline"
      ]
    },
    {
      "cell_type": "code",
      "metadata": {
        "id": "tMXMw4JVVNmp",
        "colab_type": "code",
        "colab": {}
      },
      "source": [
        "import pandas as pd\n",
        "from fbprophet import Prophet\n",
        "import fbprophet.plot\n",
        "import plotly.offline as py\n",
        "from plotly.offline import iplot\n",
        "py.init_notebook_mode()\n",
        "pd.show_versions(as_json=False) # This is added for some output on the cell"
      ],
      "execution_count": 0,
      "outputs": []
    },
    {
      "cell_type": "markdown",
      "metadata": {
        "id": "OAWN_B_zW789",
        "colab_type": "text"
      },
      "source": [
        "Ok let's go grab some data from the live NYTimes Covid csv"
      ]
    },
    {
      "cell_type": "code",
      "metadata": {
        "id": "fvBG4LlKW8Js",
        "colab_type": "code",
        "outputId": "60a71111-3922-48ba-bd9a-0f5f7d717349",
        "colab": {
          "base_uri": "https://localhost:8080/",
          "height": 195
        }
      },
      "source": [
        "df = pd.read_csv('https://raw.githubusercontent.com/nytimes/covid-19-data/master/us.csv')\n",
        "df.head()"
      ],
      "execution_count": 0,
      "outputs": [
        {
          "output_type": "execute_result",
          "data": {
            "text/html": [
              "<div>\n",
              "<style scoped>\n",
              "    .dataframe tbody tr th:only-of-type {\n",
              "        vertical-align: middle;\n",
              "    }\n",
              "\n",
              "    .dataframe tbody tr th {\n",
              "        vertical-align: top;\n",
              "    }\n",
              "\n",
              "    .dataframe thead th {\n",
              "        text-align: right;\n",
              "    }\n",
              "</style>\n",
              "<table border=\"1\" class=\"dataframe\">\n",
              "  <thead>\n",
              "    <tr style=\"text-align: right;\">\n",
              "      <th></th>\n",
              "      <th>date</th>\n",
              "      <th>cases</th>\n",
              "      <th>deaths</th>\n",
              "    </tr>\n",
              "  </thead>\n",
              "  <tbody>\n",
              "    <tr>\n",
              "      <th>0</th>\n",
              "      <td>2020-01-21</td>\n",
              "      <td>1</td>\n",
              "      <td>0</td>\n",
              "    </tr>\n",
              "    <tr>\n",
              "      <th>1</th>\n",
              "      <td>2020-01-22</td>\n",
              "      <td>1</td>\n",
              "      <td>0</td>\n",
              "    </tr>\n",
              "    <tr>\n",
              "      <th>2</th>\n",
              "      <td>2020-01-23</td>\n",
              "      <td>1</td>\n",
              "      <td>0</td>\n",
              "    </tr>\n",
              "    <tr>\n",
              "      <th>3</th>\n",
              "      <td>2020-01-24</td>\n",
              "      <td>2</td>\n",
              "      <td>0</td>\n",
              "    </tr>\n",
              "    <tr>\n",
              "      <th>4</th>\n",
              "      <td>2020-01-25</td>\n",
              "      <td>3</td>\n",
              "      <td>0</td>\n",
              "    </tr>\n",
              "  </tbody>\n",
              "</table>\n",
              "</div>"
            ],
            "text/plain": [
              "         date  cases  deaths\n",
              "0  2020-01-21      1       0\n",
              "1  2020-01-22      1       0\n",
              "2  2020-01-23      1       0\n",
              "3  2020-01-24      2       0\n",
              "4  2020-01-25      3       0"
            ]
          },
          "metadata": {
            "tags": []
          },
          "execution_count": 34
        }
      ]
    },
    {
      "cell_type": "markdown",
      "metadata": {
        "id": "VwWf0-Modd-f",
        "colab_type": "text"
      },
      "source": [
        "For the prophet to run without being angry you need to have clearly labeled columns \"ds\" and \"y\""
      ]
    },
    {
      "cell_type": "code",
      "metadata": {
        "colab_type": "code",
        "id": "9LF-6WmVXUuR",
        "outputId": "cd40d102-66d5-4e8f-a8fc-02f8d6c70671",
        "colab": {
          "base_uri": "https://localhost:8080/",
          "height": 195
        }
      },
      "source": [
        "df.rename(columns={\"date\": \"ds\", \"cases\": \"y\"},inplace=True) \n",
        "df['ds'] = pd.to_datetime(df['ds'],infer_datetime_format=True)\n",
        "df = df[df['ds']>\"2020-02-01\"]\n",
        "df['y'] = df['y'].astype(int)\n",
        "df = df[['y','ds']]\n",
        "df.head()"
      ],
      "execution_count": 0,
      "outputs": [
        {
          "output_type": "execute_result",
          "data": {
            "text/html": [
              "<div>\n",
              "<style scoped>\n",
              "    .dataframe tbody tr th:only-of-type {\n",
              "        vertical-align: middle;\n",
              "    }\n",
              "\n",
              "    .dataframe tbody tr th {\n",
              "        vertical-align: top;\n",
              "    }\n",
              "\n",
              "    .dataframe thead th {\n",
              "        text-align: right;\n",
              "    }\n",
              "</style>\n",
              "<table border=\"1\" class=\"dataframe\">\n",
              "  <thead>\n",
              "    <tr style=\"text-align: right;\">\n",
              "      <th></th>\n",
              "      <th>y</th>\n",
              "      <th>ds</th>\n",
              "    </tr>\n",
              "  </thead>\n",
              "  <tbody>\n",
              "    <tr>\n",
              "      <th>12</th>\n",
              "      <td>11</td>\n",
              "      <td>2020-02-02</td>\n",
              "    </tr>\n",
              "    <tr>\n",
              "      <th>13</th>\n",
              "      <td>11</td>\n",
              "      <td>2020-02-03</td>\n",
              "    </tr>\n",
              "    <tr>\n",
              "      <th>14</th>\n",
              "      <td>11</td>\n",
              "      <td>2020-02-04</td>\n",
              "    </tr>\n",
              "    <tr>\n",
              "      <th>15</th>\n",
              "      <td>12</td>\n",
              "      <td>2020-02-05</td>\n",
              "    </tr>\n",
              "    <tr>\n",
              "      <th>16</th>\n",
              "      <td>12</td>\n",
              "      <td>2020-02-06</td>\n",
              "    </tr>\n",
              "  </tbody>\n",
              "</table>\n",
              "</div>"
            ],
            "text/plain": [
              "     y         ds\n",
              "12  11 2020-02-02\n",
              "13  11 2020-02-03\n",
              "14  11 2020-02-04\n",
              "15  12 2020-02-05\n",
              "16  12 2020-02-06"
            ]
          },
          "metadata": {
            "tags": []
          },
          "execution_count": 37
        }
      ]
    },
    {
      "cell_type": "markdown",
      "metadata": {
        "id": "QxFZtAGSdgNJ",
        "colab_type": "text"
      },
      "source": [
        "Let's run the model so Prophet can plot some charts"
      ]
    },
    {
      "cell_type": "code",
      "metadata": {
        "id": "hwKzmKZ5XXHz",
        "colab_type": "code",
        "outputId": "e6053a03-9cf4-47fd-80eb-1c1d92a0ddd2",
        "colab": {
          "base_uri": "https://localhost:8080/",
          "height": 1000
        }
      },
      "source": [
        "model = Prophet()\n",
        "model.fit(df)\n",
        "future = model.make_future_dataframe(periods=365)\n",
        "forecast = model.predict(future)\n",
        "model.plot(forecast)\n",
        "model.plot_components(forecast)"
      ],
      "execution_count": 0,
      "outputs": [
        {
          "output_type": "stream",
          "text": [
            "INFO:fbprophet:Disabling yearly seasonality. Run prophet with yearly_seasonality=True to override this.\n",
            "INFO:fbprophet:Disabling daily seasonality. Run prophet with daily_seasonality=True to override this.\n"
          ],
          "name": "stderr"
        },
        {
          "output_type": "execute_result",
          "data": {
            "image/png": "[encoded data removed]",
            "text/plain": [
              "<Figure size 648x432 with 2 Axes>"
            ]
          },
          "metadata": {
            "tags": []
          },
          "execution_count": 38
        },
        {
          "output_type": "display_data",
          "data": {
            "image/png": "[encoded data removed]",
            "text/plain": [
              "<Figure size 720x432 with 1 Axes>"
            ]
          },
          "metadata": {
            "tags": []
          }
        },
        {
          "output_type": "display_data",
          "data": {
            "image/png": "[encoded data removed]",
            "text/plain": [
              "<Figure size 648x432 with 2 Axes>"
            ]
          },
          "metadata": {
            "tags": []
          }
        }
      ]
    },
    {
      "cell_type": "markdown",
      "metadata": {
        "id": "5cZiI3ZAmbC3",
        "colab_type": "text"
      },
      "source": [
        "# Example #2: Forecast using NYTimes live data on GitHub"
      ]
    },
    {
      "cell_type": "markdown",
      "metadata": {
        "id": "A_m-XltgnMWg",
        "colab_type": "text"
      },
      "source": [
        "We need to import pandas and Prophet"
      ]
    },
    {
      "cell_type": "code",
      "metadata": {
        "id": "7E5cst--mloW",
        "colab_type": "code",
        "colab": {}
      },
      "source": [
        "import pandas as pd\n",
        "from fbprophet import Prophet"
      ],
      "execution_count": 0,
      "outputs": []
    },
    {
      "cell_type": "markdown",
      "metadata": {
        "id": "6DUFm4HVnTyI",
        "colab_type": "text"
      },
      "source": [
        "This grabs the live data from the NY Times GitHub"
      ]
    },
    {
      "cell_type": "code",
      "metadata": {
        "id": "Y6Eyd1cimlj-",
        "colab_type": "code",
        "colab": {}
      },
      "source": [
        "url=\"https://raw.githubusercontent.com/nytimes/covid-19-data/master/us.csv\"\n",
        "df=pd.read_csv(url)"
      ],
      "execution_count": 0,
      "outputs": []
    },
    {
      "cell_type": "markdown",
      "metadata": {
        "id": "9WiMhBW-nYdn",
        "colab_type": "text"
      },
      "source": [
        "This sets the period to forecast"
      ]
    },
    {
      "cell_type": "code",
      "metadata": {
        "id": "oTMFpS7kmlgf",
        "colab_type": "code",
        "colab": {}
      },
      "source": [
        "period_to_forecast = 45"
      ],
      "execution_count": 0,
      "outputs": []
    },
    {
      "cell_type": "markdown",
      "metadata": {
        "id": "D0Wp4xs9neNF",
        "colab_type": "text"
      },
      "source": [
        "For Prophet to work we need to ensure columns are named \"ds\" and \"y\""
      ]
    },
    {
      "cell_type": "code",
      "metadata": {
        "id": "dje1Ofggmlcx",
        "colab_type": "code",
        "colab": {}
      },
      "source": [
        "df.rename(columns={\"date\": \"ds\", \"cases\": \"y\"},inplace=True) \n",
        "df['ds'] = pd.to_datetime(df['ds'],infer_datetime_format=True)\n",
        "df = df[df['ds']>\"2020-02-01\"]\n",
        "df['y'] = df['y'].astype(int)\n",
        "df = df[['y','ds']]"
      ],
      "execution_count": 0,
      "outputs": []
    },
    {
      "cell_type": "markdown",
      "metadata": {
        "id": "XsQWLwlHoLIJ",
        "colab_type": "text"
      },
      "source": [
        "Need to run Prophet and execute a graph"
      ]
    },
    {
      "cell_type": "code",
      "metadata": {
        "id": "qs1G559-mlRH",
        "colab_type": "code",
        "outputId": "472caff0-1c82-4d0c-ef65-3d21cb6fb7db",
        "colab": {
          "base_uri": "https://localhost:8080/",
          "height": 441
        }
      },
      "source": [
        "pred = Prophet(yearly_seasonality=False, daily_seasonality=False)\n",
        "pred.fit(df)\n",
        "future = pred.make_future_dataframe(periods=60)\n",
        "forecast = pred.predict(future)\n",
        "graph = pred.plot(forecast)"
      ],
      "execution_count": 0,
      "outputs": [
        {
          "output_type": "display_data",
          "data": {
            "image/png": "[encoded data removed]",
            "text/plain": [
              "<Figure size 720x432 with 1 Axes>"
            ]
          },
          "metadata": {
            "tags": []
          }
        }
      ]
    },
    {
      "cell_type": "markdown",
      "metadata": {
        "id": "BxFjv3hToaAI",
        "colab_type": "text"
      },
      "source": [
        "# Example #1: Forecast using NYTimes live data on GitHub"
      ]
    },
    {
      "cell_type": "markdown",
      "metadata": {
        "id": "iY9I1I0YWJwZ",
        "colab_type": "text"
      },
      "source": [
        "Install fbprophet using pip"
      ]
    },
    {
      "cell_type": "code",
      "metadata": {
        "id": "NW609cXxwEj2",
        "colab_type": "code",
        "outputId": "5bf567f8-104b-400f-8195-7159d90f3dc1",
        "colab": {
          "base_uri": "https://localhost:8080/",
          "height": 336
        }
      },
      "source": [
        "!pip3 install fbprophet"
      ],
      "execution_count": 0,
      "outputs": [
        {
          "output_type": "stream",
          "text": [
            "Requirement already satisfied: fbprophet in /usr/local/lib/python3.6/dist-packages (0.6)\n",
            "Requirement already satisfied: Cython>=0.22 in /usr/local/lib/python3.6/dist-packages (from fbprophet) (0.29.19)\n",
            "Requirement already satisfied: cmdstanpy==0.4 in /usr/local/lib/python3.6/dist-packages (from fbprophet) (0.4.0)\n",
            "Requirement already satisfied: pystan>=2.14 in /usr/local/lib/python3.6/dist-packages (from fbprophet) (2.19.1.1)\n",
            "Requirement already satisfied: numpy>=1.10.0 in /usr/local/lib/python3.6/dist-packages (from fbprophet) (1.18.5)\n",
            "Requirement already satisfied: pandas>=0.23.4 in /usr/local/lib/python3.6/dist-packages (from fbprophet) (1.0.4)\n",
            "Requirement already satisfied: matplotlib>=2.0.0 in /usr/local/lib/python3.6/dist-packages (from fbprophet) (3.2.1)\n",
            "Requirement already satisfied: LunarCalendar>=0.0.9 in /usr/local/lib/python3.6/dist-packages (from fbprophet) (0.0.9)\n",
            "Requirement already satisfied: convertdate>=2.1.2 in /usr/local/lib/python3.6/dist-packages (from fbprophet) (2.2.1)\n",
            "Requirement already satisfied: holidays>=0.9.5 in /usr/local/lib/python3.6/dist-packages (from fbprophet) (0.9.12)\n",
            "Requirement already satisfied: setuptools-git>=1.2 in /usr/local/lib/python3.6/dist-packages (from fbprophet) (1.2)\n",
            "Requirement already satisfied: python-dateutil>=2.8.0 in /usr/local/lib/python3.6/dist-packages (from fbprophet) (2.8.1)\n",
            "Requirement already satisfied: pytz>=2017.2 in /usr/local/lib/python3.6/dist-packages (from pandas>=0.23.4->fbprophet) (2018.9)\n",
            "Requirement already satisfied: cycler>=0.10 in /usr/local/lib/python3.6/dist-packages (from matplotlib>=2.0.0->fbprophet) (0.10.0)\n",
            "Requirement already satisfied: kiwisolver>=1.0.1 in /usr/local/lib/python3.6/dist-packages (from matplotlib>=2.0.0->fbprophet) (1.2.0)\n",
            "Requirement already satisfied: pyparsing!=2.0.4,!=2.1.2,!=2.1.6,>=2.0.1 in /usr/local/lib/python3.6/dist-packages (from matplotlib>=2.0.0->fbprophet) (2.4.7)\n",
            "Requirement already satisfied: ephem>=3.7.5.3 in /usr/local/lib/python3.6/dist-packages (from LunarCalendar>=0.0.9->fbprophet) (3.7.7.1)\n",
            "Requirement already satisfied: pymeeus<=1,>=0.3.6 in /usr/local/lib/python3.6/dist-packages (from convertdate>=2.1.2->fbprophet) (0.3.7)\n",
            "Requirement already satisfied: six in /usr/local/lib/python3.6/dist-packages (from holidays>=0.9.5->fbprophet) (1.12.0)\n"
          ],
          "name": "stdout"
        }
      ]
    },
    {
      "cell_type": "markdown",
      "metadata": {
        "id": "wCbbadSrWOAD",
        "colab_type": "text"
      },
      "source": [
        "We need to import pandas, numpy, matpoltlib, and Prophet"
      ]
    },
    {
      "cell_type": "code",
      "metadata": {
        "id": "kmW7BLxtsHEh",
        "colab_type": "code",
        "colab": {}
      },
      "source": [
        "import pandas as pd\n",
        "import numpy as np\n",
        "import matplotlib.pyplot as plt\n",
        "from fbprophet import Prophet"
      ],
      "execution_count": 0,
      "outputs": []
    },
    {
      "cell_type": "markdown",
      "metadata": {
        "id": "-2RMRtNhWTTA",
        "colab_type": "text"
      },
      "source": [
        "We need to grab some data. Let's use the NYT Covid dataset from GitHub"
      ]
    },
    {
      "cell_type": "code",
      "metadata": {
        "id": "AIxvKgtSVfLI",
        "colab_type": "code",
        "outputId": "7a8a2ed4-590c-4410-f172-eb2863022808",
        "colab": {
          "base_uri": "https://localhost:8080/",
          "height": 225
        }
      },
      "source": [
        "# url=\"https://raw.githubusercontent.com/nytimes/covid-19-data/master/us.csv\"\n",
        "# df=pd.read_csv(url)\n",
        "covid_df = pd.read_csv('https://raw.githubusercontent.com/nytimes/covid-19-data/master/us.csv', index_col='date',parse_dates=True)\n",
        "covid_df.head()"
      ],
      "execution_count": 0,
      "outputs": [
        {
          "output_type": "execute_result",
          "data": {
            "text/html": [
              "<div>\n",
              "<style scoped>\n",
              "    .dataframe tbody tr th:only-of-type {\n",
              "        vertical-align: middle;\n",
              "    }\n",
              "\n",
              "    .dataframe tbody tr th {\n",
              "        vertical-align: top;\n",
              "    }\n",
              "\n",
              "    .dataframe thead th {\n",
              "        text-align: right;\n",
              "    }\n",
              "</style>\n",
              "<table border=\"1\" class=\"dataframe\">\n",
              "  <thead>\n",
              "    <tr style=\"text-align: right;\">\n",
              "      <th></th>\n",
              "      <th>cases</th>\n",
              "      <th>deaths</th>\n",
              "    </tr>\n",
              "    <tr>\n",
              "      <th>date</th>\n",
              "      <th></th>\n",
              "      <th></th>\n",
              "    </tr>\n",
              "  </thead>\n",
              "  <tbody>\n",
              "    <tr>\n",
              "      <th>2020-01-21</th>\n",
              "      <td>1</td>\n",
              "      <td>0</td>\n",
              "    </tr>\n",
              "    <tr>\n",
              "      <th>2020-01-22</th>\n",
              "      <td>1</td>\n",
              "      <td>0</td>\n",
              "    </tr>\n",
              "    <tr>\n",
              "      <th>2020-01-23</th>\n",
              "      <td>1</td>\n",
              "      <td>0</td>\n",
              "    </tr>\n",
              "    <tr>\n",
              "      <th>2020-01-24</th>\n",
              "      <td>2</td>\n",
              "      <td>0</td>\n",
              "    </tr>\n",
              "    <tr>\n",
              "      <th>2020-01-25</th>\n",
              "      <td>3</td>\n",
              "      <td>0</td>\n",
              "    </tr>\n",
              "  </tbody>\n",
              "</table>\n",
              "</div>"
            ],
            "text/plain": [
              "            cases  deaths\n",
              "date                     \n",
              "2020-01-21      1       0\n",
              "2020-01-22      1       0\n",
              "2020-01-23      1       0\n",
              "2020-01-24      2       0\n",
              "2020-01-25      3       0"
            ]
          },
          "metadata": {
            "tags": []
          },
          "execution_count": 22
        }
      ]
    },
    {
      "cell_type": "markdown",
      "metadata": {
        "id": "UtAnbqtljrdN",
        "colab_type": "text"
      },
      "source": [
        "To use Prophet we have to rename the columns to \"ds\" and \"y\" or it will be unhappy"
      ]
    },
    {
      "cell_type": "code",
      "metadata": {
        "id": "hw6X2i5KwAQA",
        "colab_type": "code",
        "outputId": "e3bcd941-e3df-40c8-f0f7-690229e694ac",
        "colab": {
          "base_uri": "https://localhost:8080/",
          "height": 195
        }
      },
      "source": [
        "df = covid_df.reset_index()\n",
        "df.head()\n",
        "df=df.rename(columns={'date':'ds', 'cases':'y'})\n",
        "# df=df.rename(columns={'date':'ds', 'deaths':'y'})\n",
        "df.head()"
      ],
      "execution_count": 0,
      "outputs": [
        {
          "output_type": "execute_result",
          "data": {
            "text/html": [
              "<div>\n",
              "<style scoped>\n",
              "    .dataframe tbody tr th:only-of-type {\n",
              "        vertical-align: middle;\n",
              "    }\n",
              "\n",
              "    .dataframe tbody tr th {\n",
              "        vertical-align: top;\n",
              "    }\n",
              "\n",
              "    .dataframe thead th {\n",
              "        text-align: right;\n",
              "    }\n",
              "</style>\n",
              "<table border=\"1\" class=\"dataframe\">\n",
              "  <thead>\n",
              "    <tr style=\"text-align: right;\">\n",
              "      <th></th>\n",
              "      <th>ds</th>\n",
              "      <th>y</th>\n",
              "      <th>deaths</th>\n",
              "    </tr>\n",
              "  </thead>\n",
              "  <tbody>\n",
              "    <tr>\n",
              "      <th>0</th>\n",
              "      <td>2020-01-21</td>\n",
              "      <td>1</td>\n",
              "      <td>0</td>\n",
              "    </tr>\n",
              "    <tr>\n",
              "      <th>1</th>\n",
              "      <td>2020-01-22</td>\n",
              "      <td>1</td>\n",
              "      <td>0</td>\n",
              "    </tr>\n",
              "    <tr>\n",
              "      <th>2</th>\n",
              "      <td>2020-01-23</td>\n",
              "      <td>1</td>\n",
              "      <td>0</td>\n",
              "    </tr>\n",
              "    <tr>\n",
              "      <th>3</th>\n",
              "      <td>2020-01-24</td>\n",
              "      <td>2</td>\n",
              "      <td>0</td>\n",
              "    </tr>\n",
              "    <tr>\n",
              "      <th>4</th>\n",
              "      <td>2020-01-25</td>\n",
              "      <td>3</td>\n",
              "      <td>0</td>\n",
              "    </tr>\n",
              "  </tbody>\n",
              "</table>\n",
              "</div>"
            ],
            "text/plain": [
              "          ds  y  deaths\n",
              "0 2020-01-21  1       0\n",
              "1 2020-01-22  1       0\n",
              "2 2020-01-23  1       0\n",
              "3 2020-01-24  2       0\n",
              "4 2020-01-25  3       0"
            ]
          },
          "metadata": {
            "tags": []
          },
          "execution_count": 23
        }
      ]
    },
    {
      "cell_type": "code",
      "metadata": {
        "id": "0fjn5Btljnub",
        "colab_type": "code",
        "outputId": "25e70029-56ea-45d5-9843-d2126f891cbe",
        "colab": {
          "base_uri": "https://localhost:8080/",
          "height": 67
        }
      },
      "source": [
        "m = Prophet()\n",
        "m.fit(df)"
      ],
      "execution_count": 0,
      "outputs": [
        {
          "output_type": "stream",
          "text": [
            "INFO:fbprophet:Disabling yearly seasonality. Run prophet with yearly_seasonality=True to override this.\n",
            "INFO:fbprophet:Disabling daily seasonality. Run prophet with daily_seasonality=True to override this.\n"
          ],
          "name": "stderr"
        },
        {
          "output_type": "execute_result",
          "data": {
            "text/plain": [
              "<fbprophet.forecaster.Prophet at 0x7f4ec40cdba8>"
            ]
          },
          "metadata": {
            "tags": []
          },
          "execution_count": 24
        }
      ]
    },
    {
      "cell_type": "code",
      "metadata": {
        "id": "iAFvTs-Vjm_G",
        "colab_type": "code",
        "outputId": "e81f0764-56e3-45c3-f953-f1c94b225d18",
        "colab": {
          "base_uri": "https://localhost:8080/",
          "height": 319
        }
      },
      "source": [
        "df.set_index('ds').y.plot()"
      ],
      "execution_count": 0,
      "outputs": [
        {
          "output_type": "execute_result",
          "data": {
            "text/plain": [
              "<matplotlib.axes._subplots.AxesSubplot at 0x7f4ec401bc18>"
            ]
          },
          "metadata": {
            "tags": []
          },
          "execution_count": 25
        },
        {
          "output_type": "display_data",
          "data": {
            "image/png": "[encoded data removed]",
            "text/plain": [
              "<Figure size 432x288 with 1 Axes>"
            ]
          },
          "metadata": {
            "tags": [],
            "needs_background": "light"
          }
        }
      ]
    }
  ]
}