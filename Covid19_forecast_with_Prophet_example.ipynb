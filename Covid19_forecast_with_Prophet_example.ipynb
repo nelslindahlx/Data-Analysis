{
  "nbformat": 4,
  "nbformat_minor": 0,
  "metadata": {
    "colab": {
      "name": "Covid19 forecast with Prophet example.ipynb",
      "provenance": [],
      "authorship_tag": "ABX9TyNsGNdyLhrUHuTMvb3i8lj8",
      "include_colab_link": true
    },
    "kernelspec": {
      "name": "python3",
      "display_name": "Python 3"
    }
  },
  "cells": [
    {
      "cell_type": "markdown",
      "metadata": {
        "id": "view-in-github",
        "colab_type": "text"
      },
      "source": [
        "<a href=\"https://colab.research.google.com/github/nelslindahlx/Data-Analysis/blob/master/Covid19_forecast_with_Prophet_example.ipynb\" target=\"_parent\"><img src=\"https://colab.research.google.com/assets/colab-badge.svg\" alt=\"Open In Colab\"/></a>"
      ]
    },
    {
      "cell_type": "markdown",
      "metadata": {
        "id": "BxFjv3hToaAI",
        "colab_type": "text"
      },
      "source": [
        "# Example #1: Forecast using NYTimes live data on GitHub"
      ]
    },
    {
      "cell_type": "markdown",
      "metadata": {
        "id": "iY9I1I0YWJwZ",
        "colab_type": "text"
      },
      "source": [
        "Install fbprophet using pip"
      ]
    },
    {
      "cell_type": "code",
      "metadata": {
        "id": "NW609cXxwEj2",
        "colab_type": "code",
        "colab": {
          "base_uri": "https://localhost:8080/",
          "height": 336
        },
        "outputId": "5bf567f8-104b-400f-8195-7159d90f3dc1"
      },
      "source": [
        "!pip3 install fbprophet"
      ],
      "execution_count": 20,
      "outputs": [
        {
          "output_type": "stream",
          "text": [
            "Requirement already satisfied: fbprophet in /usr/local/lib/python3.6/dist-packages (0.6)\n",
            "Requirement already satisfied: Cython>=0.22 in /usr/local/lib/python3.6/dist-packages (from fbprophet) (0.29.19)\n",
            "Requirement already satisfied: cmdstanpy==0.4 in /usr/local/lib/python3.6/dist-packages (from fbprophet) (0.4.0)\n",
            "Requirement already satisfied: pystan>=2.14 in /usr/local/lib/python3.6/dist-packages (from fbprophet) (2.19.1.1)\n",
            "Requirement already satisfied: numpy>=1.10.0 in /usr/local/lib/python3.6/dist-packages (from fbprophet) (1.18.5)\n",
            "Requirement already satisfied: pandas>=0.23.4 in /usr/local/lib/python3.6/dist-packages (from fbprophet) (1.0.4)\n",
            "Requirement already satisfied: matplotlib>=2.0.0 in /usr/local/lib/python3.6/dist-packages (from fbprophet) (3.2.1)\n",
            "Requirement already satisfied: LunarCalendar>=0.0.9 in /usr/local/lib/python3.6/dist-packages (from fbprophet) (0.0.9)\n",
            "Requirement already satisfied: convertdate>=2.1.2 in /usr/local/lib/python3.6/dist-packages (from fbprophet) (2.2.1)\n",
            "Requirement already satisfied: holidays>=0.9.5 in /usr/local/lib/python3.6/dist-packages (from fbprophet) (0.9.12)\n",
            "Requirement already satisfied: setuptools-git>=1.2 in /usr/local/lib/python3.6/dist-packages (from fbprophet) (1.2)\n",
            "Requirement already satisfied: python-dateutil>=2.8.0 in /usr/local/lib/python3.6/dist-packages (from fbprophet) (2.8.1)\n",
            "Requirement already satisfied: pytz>=2017.2 in /usr/local/lib/python3.6/dist-packages (from pandas>=0.23.4->fbprophet) (2018.9)\n",
            "Requirement already satisfied: cycler>=0.10 in /usr/local/lib/python3.6/dist-packages (from matplotlib>=2.0.0->fbprophet) (0.10.0)\n",
            "Requirement already satisfied: kiwisolver>=1.0.1 in /usr/local/lib/python3.6/dist-packages (from matplotlib>=2.0.0->fbprophet) (1.2.0)\n",
            "Requirement already satisfied: pyparsing!=2.0.4,!=2.1.2,!=2.1.6,>=2.0.1 in /usr/local/lib/python3.6/dist-packages (from matplotlib>=2.0.0->fbprophet) (2.4.7)\n",
            "Requirement already satisfied: ephem>=3.7.5.3 in /usr/local/lib/python3.6/dist-packages (from LunarCalendar>=0.0.9->fbprophet) (3.7.7.1)\n",
            "Requirement already satisfied: pymeeus<=1,>=0.3.6 in /usr/local/lib/python3.6/dist-packages (from convertdate>=2.1.2->fbprophet) (0.3.7)\n",
            "Requirement already satisfied: six in /usr/local/lib/python3.6/dist-packages (from holidays>=0.9.5->fbprophet) (1.12.0)\n"
          ],
          "name": "stdout"
        }
      ]
    },
    {
      "cell_type": "markdown",
      "metadata": {
        "id": "wCbbadSrWOAD",
        "colab_type": "text"
      },
      "source": [
        "We need to import pandas, numpy, matpoltlib, and Prophet"
      ]
    },
    {
      "cell_type": "code",
      "metadata": {
        "id": "kmW7BLxtsHEh",
        "colab_type": "code",
        "colab": {}
      },
      "source": [
        "import pandas as pd\n",
        "import numpy as np\n",
        "import matplotlib.pyplot as plt\n",
        "from fbprophet import Prophet"
      ],
      "execution_count": 0,
      "outputs": []
    },
    {
      "cell_type": "markdown",
      "metadata": {
        "id": "-2RMRtNhWTTA",
        "colab_type": "text"
      },
      "source": [
        "We need to grab some data. Let's use the NYT Covid dataset from GitHub"
      ]
    },
    {
      "cell_type": "code",
      "metadata": {
        "id": "AIxvKgtSVfLI",
        "colab_type": "code",
        "colab": {
          "base_uri": "https://localhost:8080/",
          "height": 225
        },
        "outputId": "7a8a2ed4-590c-4410-f172-eb2863022808"
      },
      "source": [
        "# url=\"https://raw.githubusercontent.com/nytimes/covid-19-data/master/us.csv\"\n",
        "# df=pd.read_csv(url)\n",
        "covid_df = pd.read_csv('https://raw.githubusercontent.com/nytimes/covid-19-data/master/us.csv', index_col='date',parse_dates=True)\n",
        "covid_df.head()"
      ],
      "execution_count": 22,
      "outputs": [
        {
          "output_type": "execute_result",
          "data": {
            "text/html": [
              "<div>\n",
              "<style scoped>\n",
              "    .dataframe tbody tr th:only-of-type {\n",
              "        vertical-align: middle;\n",
              "    }\n",
              "\n",
              "    .dataframe tbody tr th {\n",
              "        vertical-align: top;\n",
              "    }\n",
              "\n",
              "    .dataframe thead th {\n",
              "        text-align: right;\n",
              "    }\n",
              "</style>\n",
              "<table border=\"1\" class=\"dataframe\">\n",
              "  <thead>\n",
              "    <tr style=\"text-align: right;\">\n",
              "      <th></th>\n",
              "      <th>cases</th>\n",
              "      <th>deaths</th>\n",
              "    </tr>\n",
              "    <tr>\n",
              "      <th>date</th>\n",
              "      <th></th>\n",
              "      <th></th>\n",
              "    </tr>\n",
              "  </thead>\n",
              "  <tbody>\n",
              "    <tr>\n",
              "      <th>2020-01-21</th>\n",
              "      <td>1</td>\n",
              "      <td>0</td>\n",
              "    </tr>\n",
              "    <tr>\n",
              "      <th>2020-01-22</th>\n",
              "      <td>1</td>\n",
              "      <td>0</td>\n",
              "    </tr>\n",
              "    <tr>\n",
              "      <th>2020-01-23</th>\n",
              "      <td>1</td>\n",
              "      <td>0</td>\n",
              "    </tr>\n",
              "    <tr>\n",
              "      <th>2020-01-24</th>\n",
              "      <td>2</td>\n",
              "      <td>0</td>\n",
              "    </tr>\n",
              "    <tr>\n",
              "      <th>2020-01-25</th>\n",
              "      <td>3</td>\n",
              "      <td>0</td>\n",
              "    </tr>\n",
              "  </tbody>\n",
              "</table>\n",
              "</div>"
            ],
            "text/plain": [
              "            cases  deaths\n",
              "date                     \n",
              "2020-01-21      1       0\n",
              "2020-01-22      1       0\n",
              "2020-01-23      1       0\n",
              "2020-01-24      2       0\n",
              "2020-01-25      3       0"
            ]
          },
          "metadata": {
            "tags": []
          },
          "execution_count": 22
        }
      ]
    },
    {
      "cell_type": "markdown",
      "metadata": {
        "id": "UtAnbqtljrdN",
        "colab_type": "text"
      },
      "source": [
        "To use Prophet we have to rename the columns to \"ds\" and \"y\" or it will be unhappy"
      ]
    },
    {
      "cell_type": "code",
      "metadata": {
        "id": "hw6X2i5KwAQA",
        "colab_type": "code",
        "outputId": "e3bcd941-e3df-40c8-f0f7-690229e694ac",
        "colab": {
          "base_uri": "https://localhost:8080/",
          "height": 195
        }
      },
      "source": [
        "df = covid_df.reset_index()\n",
        "df.head()\n",
        "df=df.rename(columns={'date':'ds', 'cases':'y'})\n",
        "# df=df.rename(columns={'date':'ds', 'deaths':'y'})\n",
        "df.head()"
      ],
      "execution_count": 23,
      "outputs": [
        {
          "output_type": "execute_result",
          "data": {
            "text/html": [
              "<div>\n",
              "<style scoped>\n",
              "    .dataframe tbody tr th:only-of-type {\n",
              "        vertical-align: middle;\n",
              "    }\n",
              "\n",
              "    .dataframe tbody tr th {\n",
              "        vertical-align: top;\n",
              "    }\n",
              "\n",
              "    .dataframe thead th {\n",
              "        text-align: right;\n",
              "    }\n",
              "</style>\n",
              "<table border=\"1\" class=\"dataframe\">\n",
              "  <thead>\n",
              "    <tr style=\"text-align: right;\">\n",
              "      <th></th>\n",
              "      <th>ds</th>\n",
              "      <th>y</th>\n",
              "      <th>deaths</th>\n",
              "    </tr>\n",
              "  </thead>\n",
              "  <tbody>\n",
              "    <tr>\n",
              "      <th>0</th>\n",
              "      <td>2020-01-21</td>\n",
              "      <td>1</td>\n",
              "      <td>0</td>\n",
              "    </tr>\n",
              "    <tr>\n",
              "      <th>1</th>\n",
              "      <td>2020-01-22</td>\n",
              "      <td>1</td>\n",
              "      <td>0</td>\n",
              "    </tr>\n",
              "    <tr>\n",
              "      <th>2</th>\n",
              "      <td>2020-01-23</td>\n",
              "      <td>1</td>\n",
              "      <td>0</td>\n",
              "    </tr>\n",
              "    <tr>\n",
              "      <th>3</th>\n",
              "      <td>2020-01-24</td>\n",
              "      <td>2</td>\n",
              "      <td>0</td>\n",
              "    </tr>\n",
              "    <tr>\n",
              "      <th>4</th>\n",
              "      <td>2020-01-25</td>\n",
              "      <td>3</td>\n",
              "      <td>0</td>\n",
              "    </tr>\n",
              "  </tbody>\n",
              "</table>\n",
              "</div>"
            ],
            "text/plain": [
              "          ds  y  deaths\n",
              "0 2020-01-21  1       0\n",
              "1 2020-01-22  1       0\n",
              "2 2020-01-23  1       0\n",
              "3 2020-01-24  2       0\n",
              "4 2020-01-25  3       0"
            ]
          },
          "metadata": {
            "tags": []
          },
          "execution_count": 23
        }
      ]
    },
    {
      "cell_type": "code",
      "metadata": {
        "id": "0fjn5Btljnub",
        "colab_type": "code",
        "colab": {
          "base_uri": "https://localhost:8080/",
          "height": 67
        },
        "outputId": "25e70029-56ea-45d5-9843-d2126f891cbe"
      },
      "source": [
        "m = Prophet()\n",
        "m.fit(df)"
      ],
      "execution_count": 24,
      "outputs": [
        {
          "output_type": "stream",
          "text": [
            "INFO:fbprophet:Disabling yearly seasonality. Run prophet with yearly_seasonality=True to override this.\n",
            "INFO:fbprophet:Disabling daily seasonality. Run prophet with daily_seasonality=True to override this.\n"
          ],
          "name": "stderr"
        },
        {
          "output_type": "execute_result",
          "data": {
            "text/plain": [
              "<fbprophet.forecaster.Prophet at 0x7f4ec40cdba8>"
            ]
          },
          "metadata": {
            "tags": []
          },
          "execution_count": 24
        }
      ]
    },
    {
      "cell_type": "code",
      "metadata": {
        "id": "iAFvTs-Vjm_G",
        "colab_type": "code",
        "colab": {
          "base_uri": "https://localhost:8080/",
          "height": 319
        },
        "outputId": "e81f0764-56e3-45c3-f953-f1c94b225d18"
      },
      "source": [
        "df.set_index('ds').y.plot()"
      ],
      "execution_count": 25,
      "outputs": [
        {
          "output_type": "execute_result",
          "data": {
            "text/plain": [
              "<matplotlib.axes._subplots.AxesSubplot at 0x7f4ec401bc18>"
            ]
          },
          "metadata": {
            "tags": []
          },
          "execution_count": 25
        },
        {
          "output_type": "display_data",
          "data": {
            "image/png": "[encoded data removed]",
            "text/plain": [
              "<Figure size 432x288 with 1 Axes>"
            ]
          },
          "metadata": {
            "tags": [],
            "needs_background": "light"
          }
        }
      ]
    },
    {
      "cell_type": "markdown",
      "metadata": {
        "id": "5cZiI3ZAmbC3",
        "colab_type": "text"
      },
      "source": [
        "# Example #2: Forecast using NYTimes live data on GitHub"
      ]
    },
    {
      "cell_type": "markdown",
      "metadata": {
        "id": "A_m-XltgnMWg",
        "colab_type": "text"
      },
      "source": [
        "We need to import pandas and Prophet"
      ]
    },
    {
      "cell_type": "code",
      "metadata": {
        "id": "7E5cst--mloW",
        "colab_type": "code",
        "colab": {}
      },
      "source": [
        "import pandas as pd\n",
        "from fbprophet import Prophet"
      ],
      "execution_count": 0,
      "outputs": []
    },
    {
      "cell_type": "markdown",
      "metadata": {
        "id": "6DUFm4HVnTyI",
        "colab_type": "text"
      },
      "source": [
        "This grabs the live data from the NY Times GitHub"
      ]
    },
    {
      "cell_type": "code",
      "metadata": {
        "id": "Y6Eyd1cimlj-",
        "colab_type": "code",
        "colab": {}
      },
      "source": [
        "url=\"https://raw.githubusercontent.com/nytimes/covid-19-data/master/us.csv\"\n",
        "df=pd.read_csv(url)"
      ],
      "execution_count": 0,
      "outputs": []
    },
    {
      "cell_type": "markdown",
      "metadata": {
        "id": "9WiMhBW-nYdn",
        "colab_type": "text"
      },
      "source": [
        "This sets the period to forecast"
      ]
    },
    {
      "cell_type": "code",
      "metadata": {
        "id": "oTMFpS7kmlgf",
        "colab_type": "code",
        "colab": {}
      },
      "source": [
        "period_to_forecast = 45"
      ],
      "execution_count": 0,
      "outputs": []
    },
    {
      "cell_type": "markdown",
      "metadata": {
        "id": "D0Wp4xs9neNF",
        "colab_type": "text"
      },
      "source": [
        "For Prophet to work we need to ensure columns are named \"ds\" and \"y\""
      ]
    },
    {
      "cell_type": "code",
      "metadata": {
        "id": "dje1Ofggmlcx",
        "colab_type": "code",
        "colab": {}
      },
      "source": [
        "df.rename(columns={\"date\": \"ds\", \"cases\": \"y\"},inplace=True) \n",
        "df['ds'] = pd.to_datetime(df['ds'],infer_datetime_format=True)\n",
        "df = df[df['ds']>\"2020-02-01\"]\n",
        "df['y'] = df['y'].astype(int)\n",
        "df = df[['y','ds']]"
      ],
      "execution_count": 0,
      "outputs": []
    },
    {
      "cell_type": "markdown",
      "metadata": {
        "id": "XsQWLwlHoLIJ",
        "colab_type": "text"
      },
      "source": [
        "Need to run Prophet and execute a graph"
      ]
    },
    {
      "cell_type": "code",
      "metadata": {
        "id": "qs1G559-mlRH",
        "colab_type": "code",
        "colab": {
          "base_uri": "https://localhost:8080/",
          "height": 441
        },
        "outputId": "472caff0-1c82-4d0c-ef65-3d21cb6fb7db"
      },
      "source": [
        "pred = Prophet(yearly_seasonality=False, daily_seasonality=False)\n",
        "pred.fit(df)\n",
        "future = pred.make_future_dataframe(periods=60)\n",
        "forecast = pred.predict(future)\n",
        "graph = pred.plot(forecast)"
      ],
      "execution_count": 19,
      "outputs": [
        {
          "output_type": "display_data",
          "data": {
            "image/png": "[encoded data removed]",
            "text/plain": [
              "<Figure size 720x432 with 1 Axes>"
            ]
          },
          "metadata": {
            "tags": []
          }
        }
      ]
    }
  ]
}